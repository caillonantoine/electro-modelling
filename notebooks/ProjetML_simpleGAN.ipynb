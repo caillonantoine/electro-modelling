{
 "cells": [
  {
   "cell_type": "markdown",
   "metadata": {},
   "source": [
    "# Simple GAN "
   ]
  },
  {
   "cell_type": "code",
   "execution_count": 1,
   "metadata": {},
   "outputs": [],
   "source": [
    "%matplotlib inline\n",
    "\n",
    "import matplotlib.pyplot as plt\n",
    "import numpy as np\n",
    "\n",
    "import torch\n",
    "from torch import nn\n",
    "from torch.utils.data import Dataset\n",
    "from torchvision import datasets\n",
    "from torchvision.transforms import ToTensor\n",
    "\n",
    "import torchvision\n",
    "import torchvision.transforms as transforms"
   ]
  },
  {
   "cell_type": "code",
   "execution_count": 2,
   "metadata": {},
   "outputs": [
    {
     "name": "stderr",
     "output_type": "stream",
     "text": [
      "C:\\Users\\mhart\\anaconda\\lib\\site-packages\\torchvision\\datasets\\mnist.py:498: UserWarning: The given NumPy array is not writeable, and PyTorch does not support non-writeable tensors. This means you can write to the underlying (supposedly non-writeable) NumPy array using the tensor. You may want to copy the array to protect its data or make it writeable before converting it to a tensor. This type of warning will be suppressed for the rest of this program. (Triggered internally at  ..\\torch\\csrc\\utils\\tensor_numpy.cpp:180.)\n",
      "  return torch.from_numpy(parsed.astype(m[2], copy=False)).view(*s)\n"
     ]
    }
   ],
   "source": [
    "# Import some data\n",
    "\n",
    "training_data = datasets.MNIST(\n",
    "    root=\"data\",\n",
    "    train=True,\n",
    "    download=True,\n",
    "    transform=ToTensor()\n",
    ")\n",
    "\n",
    "\n",
    "transform = transforms.Compose(\n",
    "    [transforms.ToTensor(),\n",
    "     transforms.Normalize((0.5,), (0.5,))])\n",
    "    \n",
    "batch_size = 128\n",
    "# Load the training set\n",
    "train_set = torchvision.datasets.MNIST(root='./data', train=True, download=True, transform=transform)\n",
    "# Create a batched data loader\n",
    "train_loader = torch.utils.data.DataLoader(train_set, batch_size=batch_size, shuffle=True)"
   ]
  },
  {
   "cell_type": "code",
   "execution_count": 3,
   "metadata": {},
   "outputs": [
    {
     "data": {
      "image/png": "[encoded data removed]",
      "text/plain": [
       "<Figure size 1440x360 with 16 Axes>"
      ]
     },
     "metadata": {},
     "output_type": "display_data"
    }
   ],
   "source": [
    "fig = plt.figure(figsize=(20,5))\n",
    "real_samples, mnist_labels = next(iter(train_loader))\n",
    "for i in range(16):\n",
    "    ax = plt.subplot(1, 16, i+1)\n",
    "    plt.imshow(real_samples[i].reshape(28, 28), cmap='gray_r')\n",
    "    plt.xticks([])\n",
    "    plt.yticks([])\n",
    "plt.tight_layout()  "
   ]
  },
  {
   "cell_type": "code",
   "execution_count": 4,
   "metadata": {},
   "outputs": [],
   "source": [
    "img_rows = 28\n",
    "img_cols = 28\n",
    "channels = 1\n",
    "\n",
    "# Input image dimensions\n",
    "img_shape = (img_rows, img_cols, channels)\n",
    "\n",
    "# Size of the noise vector, used as input to the Generator\n",
    "cols = 3\n",
    "rows = 3\n",
    "z_dim = 100\n",
    "Z_examples = torch.rand((cols*rows,z_dim)) # latent vectors used to generate samples"
   ]
  },
  {
   "cell_type": "code",
   "execution_count": 5,
   "metadata": {},
   "outputs": [],
   "source": [
    "class Generator(nn.Module):\n",
    "    def __init__(self):\n",
    "        super().__init__()\n",
    "        self.model = nn.Sequential(\n",
    "            #nn.Linear(z_dim,128),\n",
    "            #nn.LeakyReLU(), # Leaky ReLU\n",
    "            #nn.Linear(128,img_rows*img_cols),\n",
    "            #nn.Tanh(), # Output layer with tanh activation\n",
    "            nn.Linear(z_dim,7*7), # create 7x7x2 images\n",
    "            nn.LeakyReLU(negative_slope = 0.2),\n",
    "            nn.Dropout(0.3),\n",
    "            nn.Linear(7*7,7*7*2), # create 7x7x2 images\n",
    "            nn.LeakyReLU(negative_slope = 0.2),\n",
    "            nn.Dropout(0.3),\n",
    "            nn.Linear(7*7*2,7*7*4), # increase image dimension \n",
    "            nn.LeakyReLU(negative_slope = 0.2),\n",
    "            nn.Dropout(0.3),\n",
    "            nn.Linear(7*7*4,7*7*8), # increase image dimension \n",
    "            nn.LeakyReLU(negative_slope = 0.2),\n",
    "            nn.Dropout(0.3),\n",
    "            nn.Linear(7*7*8,7*7*16), # increase image dimension \n",
    "            nn.Tanh()\n",
    "        )\n",
    "    def forward(self,x):\n",
    "        output = self.model(x)\n",
    "        output = output.view(x.shape[0],channels,img_rows,img_cols)\n",
    "        return output\n",
    "    def train(self,N_samples,z_dim,discriminator,loss_function,optimizer):\n",
    "        self.zero_grad()\n",
    "        label = torch.ones((N_samples,1)) # the generator wants the discriminator to label the generated samples as real\n",
    "        Z = torch.rand((N_samples,z_dim))\n",
    "        generated_samples = self.forward(Z)\n",
    "        outputs = discriminator(generated_samples) #pass the fake batch in the just-trained discriminator\n",
    "        loss = loss_function(outputs,label)\n",
    "        loss.backward()\n",
    "        optimizer.step()\n",
    "        return loss\n",
    "    def init_weights(self):\n",
    "        if isinstance(self, nn.Linear):\n",
    "            torch.nn.init.normal_(self.weight)\n",
    "            m.bias.data.fill_(0.01)\n",
    "    \n",
    "class Discriminator(nn.Module):\n",
    "    def __init__(self):\n",
    "        super().__init__()\n",
    "        self.model = nn.Sequential(\n",
    "            #nn.Flatten(),\n",
    "            #nn.Linear(img_rows*img_cols*channels,128),\n",
    "            #nn.LeakyReLU(),\n",
    "            #nn.Linear(128,1),\n",
    "            #nn.Sigmoid(),\n",
    "            nn.Flatten(),\n",
    "            nn.Linear(img_rows*img_cols*channels,7*7*8), # decimate image dimension\n",
    "            nn.LeakyReLU(negative_slope = 0.2),\n",
    "            nn.Dropout(0.3),\n",
    "            nn.Linear(7*7*8,7*7*4), # decimate image dimension\n",
    "            nn.LeakyReLU(negative_slope = 0.2),\n",
    "            nn.Dropout(0.3),\n",
    "            nn.Linear(7*7*4,7*7*2), # decimate image dimension\n",
    "            nn.LeakyReLU(negative_slope = 0.2),\n",
    "            nn.Dropout(0.3),\n",
    "            nn.Linear(7*7*2,7*7), # decimate image dimension\n",
    "            nn.LeakyReLU(negative_slope = 0.2),\n",
    "            nn.Dropout(0.3),\n",
    "            nn.Linear(7*7,1),\n",
    "            #nn.Tanh()\n",
    "        )\n",
    "    def forward(self,x):\n",
    "        #inp = x.view(x.shape[0],img_rows*img_cols*channels)\n",
    "        output = self.model(x)\n",
    "        return output\n",
    "    def train(self,samples,labels,loss_function,optimizer):\n",
    "        self.zero_grad()\n",
    "        outputs = self.forward(samples)\n",
    "        loss = loss_function(outputs,labels)\n",
    "        loss.backward()\n",
    "        optimizer.step()\n",
    "        return loss\n",
    "    def init_weights(self):\n",
    "        if isinstance(self, nn.Linear):\n",
    "            torch.nn.init.normal_(self.weight)\n",
    "            m.bias.data.fill_(0.01)"
   ]
  },
  {
   "cell_type": "code",
   "execution_count": 6,
   "metadata": {},
   "outputs": [],
   "source": [
    "def get_samples_and_labels(real_samples,N_samples,z_dim):\n",
    "    # Define the labels for the real samples\n",
    "    label_real = torch.ones((N_samples,1))\n",
    "    # Then, generate the fake data\n",
    "    Z = torch.rand((N_samples,z_dim))\n",
    "    fake_samples = generator(Z) #.detach()\n",
    "    label_fake = torch.zeros((N_samples,1))\n",
    "    # Concatenate the real and fake data into a large training set \n",
    "    samples = torch.cat((real_samples,fake_samples))\n",
    "    labels = torch.cat((label_real,label_fake))\n",
    "    return samples,labels"
   ]
  },
  {
   "cell_type": "code",
   "execution_count": 7,
   "metadata": {},
   "outputs": [],
   "source": [
    "generator = Generator()\n",
    "discriminator = Discriminator()"
   ]
  },
  {
   "cell_type": "code",
   "execution_count": 8,
   "metadata": {},
   "outputs": [],
   "source": [
    "# hyper-parameters\n",
    "lr = 0.0002 #1e-4\n",
    "num_epochs = 50 #200\n",
    "interval_gen_training = 3 # Train the generator only every ... epoch\n",
    "sample_interval = 5\n",
    "init_nets = True"
   ]
  },
  {
   "cell_type": "code",
   "execution_count": 9,
   "metadata": {},
   "outputs": [],
   "source": [
    "loss_function = nn.MSELoss() #nn.BCEWithLogitsLoss() #nn.HingeEmbeddingLoss()  # nn.BCELoss() # binary cross entropy\n",
    "optimizer_discriminator = torch.optim.Adam(discriminator.parameters(), lr = lr)\n",
    "optimizer_generator = torch.optim.Adam(generator.parameters(), lr = lr)"
   ]
  },
  {
   "cell_type": "code",
   "execution_count": 17,
   "metadata": {},
   "outputs": [
    {
     "name": "stdout",
     "output_type": "stream",
     "text": [
      "98\n"
     ]
    }
   ],
   "source": [
    "loss_d = torch.zeros(num_epochs)\n",
    "loss_g = torch.zeros(num_epochs)\n",
    "if len(loss_d)!=0:\n",
    "    loss_d = torch.cat((loss_d,torch.zeros(num_epochs)))\n",
    "    loss_g = torch.cat((loss_g,torch.zeros(num_epochs)))\n",
    "    \n",
    "#cur_epoch = 0\n",
    "print(cur_epoch)\n",
    "init_nets = False"
   ]
  },
  {
   "cell_type": "code",
   "execution_count": 18,
   "metadata": {},
   "outputs": [
    {
     "name": "stdout",
     "output_type": "stream",
     "text": [
      "Epoch 98\n",
      "Discriminator loss tensor(0.0104)\n",
      "Generator loss tensor(0.6588)\n",
      "Epoch 99\n",
      "Discriminator loss tensor(0.1866)\n",
      "Generator loss tensor(0.4829)\n",
      "Epoch 100\n"
     ]
    },
    {
     "ename": "<class 'IndexError'>",
     "evalue": "index 100 is out of bounds for dimension 0 with size 100",
     "output_type": "error",
     "traceback": [
      "\u001b[1;31m---------------------------------------------------------------------------\u001b[0m",
      "\u001b[1;31mIndexError\u001b[0m                                Traceback (most recent call last)",
      "\u001b[1;32mC:/Users/mhart/AppData/Local/Temp/xpython_8800/2178318954.py\u001b[0m in \u001b[0;36m<module>\u001b[1;34m\u001b[0m\n\u001b[0;32m     16\u001b[0m     \u001b[1;31m# Show loss and performance every sample_interval epoch\u001b[0m\u001b[1;33m\u001b[0m\u001b[1;33m\u001b[0m\u001b[0m\n\u001b[0;32m     17\u001b[0m     \u001b[1;31m#if epoch % sample_interval == 0: #and n == batch_size - 1:\u001b[0m\u001b[1;33m\u001b[0m\u001b[1;33m\u001b[0m\u001b[0m\n\u001b[1;32m---> 18\u001b[1;33m     \u001b[0mloss_d\u001b[0m\u001b[1;33m[\u001b[0m\u001b[0mepoch\u001b[0m\u001b[1;33m]\u001b[0m \u001b[1;33m=\u001b[0m \u001b[0mloss_discriminator\u001b[0m\u001b[1;33m\u001b[0m\u001b[0m\n\u001b[0m\u001b[0;32m     19\u001b[0m     \u001b[0mloss_g\u001b[0m\u001b[1;33m[\u001b[0m\u001b[0mepoch\u001b[0m\u001b[1;33m]\u001b[0m \u001b[1;33m=\u001b[0m \u001b[0mloss_generator\u001b[0m\u001b[1;33m\u001b[0m\u001b[0m\n\u001b[0;32m     20\u001b[0m     \u001b[0mprint\u001b[0m\u001b[1;33m(\u001b[0m\u001b[1;34m'Discriminator loss'\u001b[0m\u001b[1;33m,\u001b[0m\u001b[0mloss_discriminator\u001b[0m\u001b[1;33m.\u001b[0m\u001b[0mdetach\u001b[0m\u001b[1;33m(\u001b[0m\u001b[1;33m)\u001b[0m\u001b[1;33m)\u001b[0m\u001b[1;33m\u001b[0m\u001b[0m\n",
      "\u001b[1;31mIndexError\u001b[0m: index 100 is out of bounds for dimension 0 with size 100"
     ]
    }
   ],
   "source": [
    "if init_nets == True:\n",
    "    generator.init_weights()\n",
    "    discriminator.init_weights()\n",
    "\n",
    "for epoch in range(cur_epoch,cur_epoch+num_epochs):\n",
    "    print('Epoch %d' %epoch)\n",
    "    for n, (real_samples, _) in enumerate(train_loader):\n",
    "        N_samples = real_samples.shape[0]\n",
    "        # First, train the discriminator \n",
    "        samples, labels = get_samples_and_labels(real_samples,N_samples,z_dim)\n",
    "        # Train the discriminator on this set\n",
    "        loss_discriminator = discriminator.train(samples,labels,loss_function,optimizer_discriminator)\n",
    "        if epoch % interval_gen_training==0:\n",
    "            # And now, train the generator\n",
    "            loss_generator = generator.train(N_samples,z_dim,discriminator,loss_function,optimizer_generator)\n",
    "    # Show loss and performance every sample_interval epoch\n",
    "    #if epoch % sample_interval == 0: #and n == batch_size - 1:\n",
    "    loss_d[epoch] = loss_discriminator\n",
    "    loss_g[epoch] = loss_generator\n",
    "    print('Discriminator loss',loss_discriminator.detach())\n",
    "    print('Generator loss',loss_generator.detach() )\n",
    "    if epoch%sample_interval ==0:\n",
    "        # Show some generated samples computed at this epoch\n",
    "        images_to_show = generator(Z_examples)\n",
    "        images_to_show = 0.5*images_to_show.detach().squeeze()+0.5 # just a small rescaling\n",
    "        plt.figure(figsize=(10,8))\n",
    "        plt.title('Evolution of the generated samples')\n",
    "        for cnt in range(1,rows*cols+1):\n",
    "            plt.subplot(rows,cols,cnt)\n",
    "            plt.imshow(images_to_show[cnt-1,:,:],cmap = 'gray')\n",
    "            plt.axis('off')\n",
    "        plt.show()\n",
    "\n",
    "cur_epoch = epoch"
   ]
  },
  {
   "cell_type": "code",
   "execution_count": 19,
   "metadata": {},
   "outputs": [
    {
     "data": {
      "image/png": "[encoded data removed]",
      "text/plain": [
       "<Figure size 720x576 with 1 Axes>"
      ]
     },
     "metadata": {
      "needs_background": "light"
     },
     "output_type": "display_data"
    },
    {
     "data": {
      "image/png": "[encoded data removed]",
      "text/plain": [
       "<Figure size 720x576 with 9 Axes>"
      ]
     },
     "metadata": {
      "needs_background": "light"
     },
     "output_type": "display_data"
    }
   ],
   "source": [
    "plt.figure(1,figsize=(10,8))\n",
    "plt.plot(loss_d.detach())\n",
    "plt.plot(loss_g.detach())\n",
    "plt.grid()\n",
    "plt.legend(['Discriminator','Generator'])\n",
    "plt.title('Evolution of the losses during training')\n",
    "plt.xlim([0,cur_epoch-1])\n",
    "plt.show()\n",
    "\n",
    "images_to_show = generator(Z_examples)\n",
    "images_to_show = 0.5*images_to_show.detach().squeeze()+0.5 # just a small rescaling\n",
    "plt.figure(figsize=(10,8))\n",
    "cnt = 0\n",
    "for cnt in range(1,rows*cols+1):\n",
    "    plt.subplot(rows,cols,cnt)\n",
    "    plt.imshow(images_to_show[cnt-1,:,:],cmap = 'gray')\n",
    "    plt.axis('off')\n",
    "    if cnt ==2:\n",
    "        plt.title('Some samples, generated at epoch = %d' %cur_epoch)\n",
    "    cnt+=1\n",
    "plt.show()\n",
    "cur_epoch = epoch"
   ]
  }
 ],
 "metadata": {
  "kernelspec": {
   "display_name": "Python 3.7 (XPython)",
   "language": "python",
   "name": "xpython"
  },
  "language_info": {
   "file_extension": ".py",
   "mimetype": "text/x-python",
   "name": "python",
   "version": "3.7.11"
  }
 },
 "nbformat": 4,
 "nbformat_minor": 2
}
